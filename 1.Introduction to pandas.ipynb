{
 "cells": [
  {
   "cell_type": "markdown",
   "id": "19b7fdb3",
   "metadata": {},
   "source": [
    "# INTRODUCTION TO PANDAS"
   ]
  },
  {
   "cell_type": "markdown",
   "id": "6b2106c9",
   "metadata": {},
   "source": [
    "Pandas is a Python package providing fast, flexible, and expressive data structures designed to\n",
    "make working with “relational” or “labeled” data both easy and intuitive. It aims to be the\n",
    "fundamental high-level building block for doing practical, real world data analysis in Python."
   ]
  },
  {
   "cell_type": "markdown",
   "id": "fd2d332b",
   "metadata": {},
   "source": [
    "Installing pandas\n",
    "\n",
    "\n",
    "pip install pandas  OR conda install pandas"
   ]
  },
  {
   "cell_type": "markdown",
   "id": "96ba32c0",
   "metadata": {},
   "source": [
    "## A Quick view "
   ]
  },
  {
   "cell_type": "code",
   "execution_count": 5,
   "id": "357efd3f",
   "metadata": {},
   "outputs": [
    {
     "data": {
      "image/png": "[encoded data removed]",
      "text/plain": [
       "<Figure size 432x288 with 1 Axes>"
      ]
     },
     "metadata": {
      "needs_background": "light"
     },
     "output_type": "display_data"
    }
   ],
   "source": [
    "#importing modules\n",
    "import pandas as pd # this convention is followed by many.\n",
    "import numpy as np\n",
    "import matplotlib.pyplot as plt # for plotting graphs\n",
    "\n",
    "np.random.seed(0)\n",
    "\n",
    "values = np.random.randn(100) # a array with 100 values\n",
    "\n",
    "s = pd.Series(values) # generating dataframe\n",
    "s.plot(kind=\"hist\",title=\"normal distribution of random values\") # a histogram plot \n",
    "plt.show()"
   ]
  },
  {
   "cell_type": "code",
   "execution_count": 6,
   "id": "338ed4a1",
   "metadata": {},
   "outputs": [
    {
     "data": {
      "text/plain": [
       "count    100.000000\n",
       "mean       0.059808\n",
       "std        1.012960\n",
       "min       -2.552990\n",
       "25%       -0.643857\n",
       "50%        0.094096\n",
       "75%        0.737077\n",
       "max        2.269755\n",
       "dtype: float64"
      ]
     },
     "execution_count": 6,
     "metadata": {},
     "output_type": "execute_result"
    }
   ],
   "source": [
    "#finding mean,standard deviation, min, max counts\n",
    "s.describe()"
   ]
  },
  {
   "cell_type": "code",
   "execution_count": 8,
   "id": "ac1dfa5c",
   "metadata": {},
   "outputs": [],
   "source": [
    "# an example\n",
    "df = pd.DataFrame({'A': [1, 2, 1, 4, 3, 5, 2, 3, 4, 1],\n",
    " 'B': [12, 14, 11, 16, 18, 18, 22, 13, 21, 17],\n",
    " 'C': ['a', 'a', 'b', 'a', 'b', 'c', 'b', 'a', 'b', 'a']})"
   ]
  },
  {
   "cell_type": "code",
   "execution_count": 10,
   "id": "7184f26e",
   "metadata": {},
   "outputs": [
    {
     "data": {
      "text/html": [
       "<div>\n",
       "<style scoped>\n",
       "    .dataframe tbody tr th:only-of-type {\n",
       "        vertical-align: middle;\n",
       "    }\n",
       "\n",
       "    .dataframe tbody tr th {\n",
       "        vertical-align: top;\n",
       "    }\n",
       "\n",
       "    .dataframe thead th {\n",
       "        text-align: right;\n",
       "    }\n",
       "</style>\n",
       "<table border=\"1\" class=\"dataframe\">\n",
       "  <thead>\n",
       "    <tr style=\"text-align: right;\">\n",
       "      <th></th>\n",
       "      <th>A</th>\n",
       "      <th>B</th>\n",
       "    </tr>\n",
       "  </thead>\n",
       "  <tbody>\n",
       "    <tr>\n",
       "      <th>count</th>\n",
       "      <td>10.000000</td>\n",
       "      <td>10.000000</td>\n",
       "    </tr>\n",
       "    <tr>\n",
       "      <th>mean</th>\n",
       "      <td>2.600000</td>\n",
       "      <td>16.200000</td>\n",
       "    </tr>\n",
       "    <tr>\n",
       "      <th>std</th>\n",
       "      <td>1.429841</td>\n",
       "      <td>3.705851</td>\n",
       "    </tr>\n",
       "    <tr>\n",
       "      <th>min</th>\n",
       "      <td>1.000000</td>\n",
       "      <td>11.000000</td>\n",
       "    </tr>\n",
       "    <tr>\n",
       "      <th>25%</th>\n",
       "      <td>1.250000</td>\n",
       "      <td>13.250000</td>\n",
       "    </tr>\n",
       "    <tr>\n",
       "      <th>50%</th>\n",
       "      <td>2.500000</td>\n",
       "      <td>16.500000</td>\n",
       "    </tr>\n",
       "    <tr>\n",
       "      <th>75%</th>\n",
       "      <td>3.750000</td>\n",
       "      <td>18.000000</td>\n",
       "    </tr>\n",
       "    <tr>\n",
       "      <th>max</th>\n",
       "      <td>5.000000</td>\n",
       "      <td>22.000000</td>\n",
       "    </tr>\n",
       "  </tbody>\n",
       "</table>\n",
       "</div>"
      ],
      "text/plain": [
       "               A          B\n",
       "count  10.000000  10.000000\n",
       "mean    2.600000  16.200000\n",
       "std     1.429841   3.705851\n",
       "min     1.000000  11.000000\n",
       "25%     1.250000  13.250000\n",
       "50%     2.500000  16.500000\n",
       "75%     3.750000  18.000000\n",
       "max     5.000000  22.000000"
      ]
     },
     "execution_count": 10,
     "metadata": {},
     "output_type": "execute_result"
    }
   ],
   "source": [
    "df.describe()"
   ]
  },
  {
   "cell_type": "markdown",
   "id": "51312b3e",
   "metadata": {},
   "source": [
    "Note : that since C is not a numerical column, it is excluded from the output."
   ]
  },
  {
   "cell_type": "code",
   "execution_count": 9,
   "id": "6e554fef",
   "metadata": {},
   "outputs": [
    {
     "data": {
      "text/plain": [
       "count     10\n",
       "unique     3\n",
       "top        a\n",
       "freq       5\n",
       "Name: C, dtype: object"
      ]
     },
     "execution_count": 9,
     "metadata": {},
     "output_type": "execute_result"
    }
   ],
   "source": [
    " df['C'].describe() # info about just column \"C\"\n"
   ]
  },
  {
   "cell_type": "markdown",
   "id": "e0e9e2b4",
   "metadata": {},
   "source": [
    "In this case the method summarizes categorical data by number of observations, number of\n",
    "unique elements, mode, and frequency of the mode.\n"
   ]
  },
  {
   "cell_type": "code",
   "execution_count": null,
   "id": "80eaec95",
   "metadata": {},
   "outputs": [],
   "source": []
  }
 ],
 "metadata": {
  "kernelspec": {
   "display_name": "Python 3 (ipykernel)",
   "language": "python",
   "name": "python3"
  },
  "language_info": {
   "codemirror_mode": {
    "name": "ipython",
    "version": 3
   },
   "file_extension": ".py",
   "mimetype": "text/x-python",
   "name": "python",
   "nbconvert_exporter": "python",
   "pygments_lexer": "ipython3",
   "version": "3.9.6"
  }
 },
 "nbformat": 4,
 "nbformat_minor": 5
}
