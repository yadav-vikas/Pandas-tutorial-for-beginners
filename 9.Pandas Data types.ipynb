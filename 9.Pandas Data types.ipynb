{
 "cells": [
  {
   "cell_type": "markdown",
   "id": "ecd96de4",
   "metadata": {},
   "source": [
    "# Introduction\n"
   ]
  },
  {
   "cell_type": "markdown",
   "id": "31120131",
   "metadata": {},
   "source": [
    "dtypes are not native to pandas. They are a result of pandas close architectural coupling to\n",
    "numpy.\n",
    "\n",
    "the dtype of a column does not in any way have to correlate to the python type of the object\n",
    "contained in the column.\n",
    "\n"
   ]
  },
  {
   "cell_type": "code",
   "execution_count": 1,
   "id": "cba822d7",
   "metadata": {},
   "outputs": [
    {
     "data": {
      "text/plain": [
       "0    1.0\n",
       "1    2.0\n",
       "2    3.0\n",
       "3    4.0\n",
       "4    5.0\n",
       "dtype: object"
      ]
     },
     "execution_count": 1,
     "metadata": {},
     "output_type": "execute_result"
    }
   ],
   "source": [
    "import pandas as pd\n",
    "\n",
    "pd.Series([1.,2.,3.,4.,5.]).astype(object)"
   ]
  },
  {
   "cell_type": "markdown",
   "id": "606bd824",
   "metadata": {},
   "source": [
    "Here we have a pd.Series with floats. The dtype will be float.\n",
    "\n",
    "Then we use astype to \"cast\" it to object"
   ]
  },
  {
   "cell_type": "markdown",
   "id": "6b776557",
   "metadata": {},
   "source": [
    "The dtype is now object, but the objects in the list are still float. Logical if you know that in python,\n",
    "everything is an object, and can be upcasted to object."
   ]
  },
  {
   "cell_type": "code",
   "execution_count": 3,
   "id": "b3998feb",
   "metadata": {},
   "outputs": [
    {
     "data": {
      "text/plain": [
       "float"
      ]
     },
     "execution_count": 3,
     "metadata": {},
     "output_type": "execute_result"
    }
   ],
   "source": [
    "type(pd.Series([1.,2.,3.,4.,5.]).astype(object)[0])"
   ]
  },
  {
   "cell_type": "markdown",
   "id": "2a91800c",
   "metadata": {},
   "source": [
    "Float to strings"
   ]
  },
  {
   "cell_type": "code",
   "execution_count": 4,
   "id": "3aca8132",
   "metadata": {},
   "outputs": [
    {
     "data": {
      "text/plain": [
       "0    1.0\n",
       "1    2.0\n",
       "2    3.0\n",
       "3    4.0\n",
       "4    5.0\n",
       "dtype: object"
      ]
     },
     "execution_count": 4,
     "metadata": {},
     "output_type": "execute_result"
    }
   ],
   "source": [
    "pd.Series([1.,2.,3.,4.,5.]).astype(str)\n"
   ]
  },
  {
   "cell_type": "code",
   "execution_count": 5,
   "id": "a9084d26",
   "metadata": {},
   "outputs": [
    {
     "data": {
      "text/plain": [
       "str"
      ]
     },
     "execution_count": 5,
     "metadata": {},
     "output_type": "execute_result"
    }
   ],
   "source": [
    "type(pd.Series([1.,2.,3.,4.,5.]).astype(str)[0])"
   ]
  },
  {
   "cell_type": "markdown",
   "id": "b9d3ebd3",
   "metadata": {},
   "source": [
    "#### type of columns"
   ]
  },
  {
   "cell_type": "code",
   "execution_count": 6,
   "id": "ee4aa2fa",
   "metadata": {},
   "outputs": [
    {
     "data": {
      "text/html": [
       "<div>\n",
       "<style scoped>\n",
       "    .dataframe tbody tr th:only-of-type {\n",
       "        vertical-align: middle;\n",
       "    }\n",
       "\n",
       "    .dataframe tbody tr th {\n",
       "        vertical-align: top;\n",
       "    }\n",
       "\n",
       "    .dataframe thead th {\n",
       "        text-align: right;\n",
       "    }\n",
       "</style>\n",
       "<table border=\"1\" class=\"dataframe\">\n",
       "  <thead>\n",
       "    <tr style=\"text-align: right;\">\n",
       "      <th></th>\n",
       "      <th>A</th>\n",
       "      <th>B</th>\n",
       "      <th>C</th>\n",
       "    </tr>\n",
       "  </thead>\n",
       "  <tbody>\n",
       "    <tr>\n",
       "      <th>0</th>\n",
       "      <td>1</td>\n",
       "      <td>1.0</td>\n",
       "      <td>True</td>\n",
       "    </tr>\n",
       "    <tr>\n",
       "      <th>1</th>\n",
       "      <td>2</td>\n",
       "      <td>2.0</td>\n",
       "      <td>False</td>\n",
       "    </tr>\n",
       "    <tr>\n",
       "      <th>2</th>\n",
       "      <td>3</td>\n",
       "      <td>3.0</td>\n",
       "      <td>True</td>\n",
       "    </tr>\n",
       "  </tbody>\n",
       "</table>\n",
       "</div>"
      ],
      "text/plain": [
       "   A    B      C\n",
       "0  1  1.0   True\n",
       "1  2  2.0  False\n",
       "2  3  3.0   True"
      ]
     },
     "execution_count": 6,
     "metadata": {},
     "output_type": "execute_result"
    }
   ],
   "source": [
    "df = pd.DataFrame({'A': [1, 2, 3], 'B': [1.0, 2.0, 3.0], 'C': [True, False, True]})\n",
    "df"
   ]
  },
  {
   "cell_type": "code",
   "execution_count": 7,
   "id": "17e75952",
   "metadata": {},
   "outputs": [
    {
     "data": {
      "text/plain": [
       "A      int64\n",
       "B    float64\n",
       "C       bool\n",
       "dtype: object"
      ]
     },
     "execution_count": 7,
     "metadata": {},
     "output_type": "execute_result"
    }
   ],
   "source": [
    "df.dtypes"
   ]
  },
  {
   "cell_type": "markdown",
   "id": "5f92d6d2",
   "metadata": {},
   "source": [
    "#### Changing data types of columns"
   ]
  },
  {
   "cell_type": "code",
   "execution_count": 9,
   "id": "7eff52f1",
   "metadata": {},
   "outputs": [
    {
     "data": {
      "text/plain": [
       "A      int64\n",
       "B    float64\n",
       "C     object\n",
       "D     object\n",
       "E     object\n",
       "dtype: object"
      ]
     },
     "execution_count": 9,
     "metadata": {},
     "output_type": "execute_result"
    }
   ],
   "source": [
    " df = pd.DataFrame({'A': [1, 2, 3], 'B': [1.0, 2.0, 3.0],\n",
    " 'C': ['1.1.2010', '2.1.2011', '3.1.2011'],\n",
    " 'D': ['1 days', '2 days', '3 days'],\n",
    " 'E': ['1', '2', '3']})\n",
    "\n",
    "df.dtypes"
   ]
  },
  {
   "cell_type": "code",
   "execution_count": 10,
   "id": "78f8d679",
   "metadata": {},
   "outputs": [
    {
     "data": {
      "text/plain": [
       "0    1.0\n",
       "1    2.0\n",
       "2    3.0\n",
       "Name: A, dtype: float64"
      ]
     },
     "execution_count": 10,
     "metadata": {},
     "output_type": "execute_result"
    }
   ],
   "source": [
    "df['A'].astype('float')"
   ]
  },
  {
   "cell_type": "raw",
   "id": "8ed5cd21",
   "metadata": {},
   "source": [
    "astype() method is for specific type conversion (i.e. you can specify .astype(float64'),\n",
    "\n",
    ".astype(float32), or .astype(float16)). For general conversion, you can use pd.to_numeric,\n",
    "pd.to_datetime and pd.to_timedelta."
   ]
  },
  {
   "cell_type": "markdown",
   "id": "ba5445d0",
   "metadata": {},
   "source": [
    "#### Changing the type to numeric\n"
   ]
  },
  {
   "cell_type": "raw",
   "id": "02acd70f",
   "metadata": {},
   "source": [
    "pd.to_numeric changes the values to a numeric type.\n"
   ]
  },
  {
   "cell_type": "code",
   "execution_count": 11,
   "id": "19cabf83",
   "metadata": {},
   "outputs": [
    {
     "data": {
      "text/plain": [
       "0    1\n",
       "1    2\n",
       "2    3\n",
       "Name: E, dtype: int64"
      ]
     },
     "execution_count": 11,
     "metadata": {},
     "output_type": "execute_result"
    }
   ],
   "source": [
    "pd.to_numeric(df['E'])"
   ]
  },
  {
   "cell_type": "markdown",
   "id": "d0c38a66",
   "metadata": {},
   "source": [
    "##### NOTE: By default, pd.to_numeric raises an error if an input cannot be converted to a number. You can change that behavior by using the errors parameter."
   ]
  },
  {
   "cell_type": "code",
   "execution_count": 12,
   "id": "8ee542c1",
   "metadata": {},
   "outputs": [
    {
     "data": {
      "text/plain": [
       "0    1\n",
       "1    2\n",
       "2    a\n",
       "dtype: object"
      ]
     },
     "execution_count": 12,
     "metadata": {},
     "output_type": "execute_result"
    }
   ],
   "source": [
    "# Ignore the error, return the original input if it cannot be converted\n",
    "pd.to_numeric(pd.Series(['1', '2', 'a']), errors='ignore')\n"
   ]
  },
  {
   "cell_type": "code",
   "execution_count": 13,
   "id": "b737dee9",
   "metadata": {},
   "outputs": [
    {
     "data": {
      "text/plain": [
       "0    1.0\n",
       "1    2.0\n",
       "2    NaN\n",
       "dtype: float64"
      ]
     },
     "execution_count": 13,
     "metadata": {},
     "output_type": "execute_result"
    }
   ],
   "source": [
    "# Return NaN when the input cannot be converted to a number\n",
    "pd.to_numeric(pd.Series(['1', '2', 'a']), errors='coerce')\n"
   ]
  },
  {
   "cell_type": "markdown",
   "id": "7f5f8618",
   "metadata": {},
   "source": [
    "##### If need check all rows with input cannot be converted to numeric use boolean indexing with isnull:"
   ]
  },
  {
   "cell_type": "code",
   "execution_count": 14,
   "id": "34ed9a1c",
   "metadata": {},
   "outputs": [
    {
     "data": {
      "text/plain": [
       "0    False\n",
       "1     True\n",
       "2     True\n",
       "Name: A, dtype: bool"
      ]
     },
     "execution_count": 14,
     "metadata": {},
     "output_type": "execute_result"
    }
   ],
   "source": [
    " df = pd.DataFrame({'A': [1, 'x', 'z'],\n",
    " 'B': [1.0, 2.0, 3.0],\n",
    " 'C': [True, False, True]})\n",
    "    \n",
    "pd.to_numeric(df.A, errors='coerce').isnull()"
   ]
  },
  {
   "cell_type": "code",
   "execution_count": 15,
   "id": "11f06b44",
   "metadata": {},
   "outputs": [
    {
     "data": {
      "text/html": [
       "<div>\n",
       "<style scoped>\n",
       "    .dataframe tbody tr th:only-of-type {\n",
       "        vertical-align: middle;\n",
       "    }\n",
       "\n",
       "    .dataframe tbody tr th {\n",
       "        vertical-align: top;\n",
       "    }\n",
       "\n",
       "    .dataframe thead th {\n",
       "        text-align: right;\n",
       "    }\n",
       "</style>\n",
       "<table border=\"1\" class=\"dataframe\">\n",
       "  <thead>\n",
       "    <tr style=\"text-align: right;\">\n",
       "      <th></th>\n",
       "      <th>A</th>\n",
       "      <th>B</th>\n",
       "      <th>C</th>\n",
       "    </tr>\n",
       "  </thead>\n",
       "  <tbody>\n",
       "    <tr>\n",
       "      <th>1</th>\n",
       "      <td>x</td>\n",
       "      <td>2.0</td>\n",
       "      <td>False</td>\n",
       "    </tr>\n",
       "    <tr>\n",
       "      <th>2</th>\n",
       "      <td>z</td>\n",
       "      <td>3.0</td>\n",
       "      <td>True</td>\n",
       "    </tr>\n",
       "  </tbody>\n",
       "</table>\n",
       "</div>"
      ],
      "text/plain": [
       "   A    B      C\n",
       "1  x  2.0  False\n",
       "2  z  3.0   True"
      ]
     },
     "execution_count": 15,
     "metadata": {},
     "output_type": "execute_result"
    }
   ],
   "source": [
    "df[pd.to_numeric(df.A, errors='coerce').isnull()]\n"
   ]
  },
  {
   "cell_type": "markdown",
   "id": "21b47225",
   "metadata": {},
   "source": [
    "#### Changing the type to datetime"
   ]
  },
  {
   "cell_type": "code",
   "execution_count": 17,
   "id": "c2bb3272",
   "metadata": {},
   "outputs": [
    {
     "data": {
      "text/plain": [
       "Timestamp('2011-01-02 00:00:00')"
      ]
     },
     "execution_count": 17,
     "metadata": {},
     "output_type": "execute_result"
    }
   ],
   "source": [
    " pd.to_datetime('2.1.2011', dayfirst=True)"
   ]
  },
  {
   "cell_type": "markdown",
   "id": "74cf84ee",
   "metadata": {},
   "source": [
    "##### Note that 2.1.2011 is converted to February 1, 2011. If you want January 2, 2011 instead, you need to use the dayfirst parameter."
   ]
  },
  {
   "cell_type": "markdown",
   "id": "1acb998b",
   "metadata": {},
   "source": [
    "#### Changing the type to timedelta\n"
   ]
  },
  {
   "cell_type": "raw",
   "id": "065a2688",
   "metadata": {},
   "source": [
    "In [14]: pd.to_timedelta(df['D'])\n",
    "Out[14]:\n",
    "0 1 days\n",
    "1 2 days\n",
    "2 3 days\n",
    "Name: D, dtype: timedelta64[ns]\n"
   ]
  },
  {
   "cell_type": "raw",
   "id": "96405d85",
   "metadata": {},
   "source": [
    "Selecting columns based on dtype\n",
    "select_dtypes method can be used to select columns based on dtype.\n",
    "\n",
    "In [1]: df = pd.DataFrame({'A': [1, 2, 3], 'B': [1.0, 2.0, 3.0], 'C': ['a', 'b', 'c'],\n",
    " 'D': [True, False, True]})\n",
    "\n",
    "In [2]: df\n",
    "\n",
    "Out[2]:\n",
    " A B C D\n",
    "0 1 1.0 a True\n",
    "1 2 2.0 b False\n",
    "2 3 3.0 c True\n"
   ]
  },
  {
   "cell_type": "markdown",
   "id": "14e5d23b",
   "metadata": {},
   "source": [
    "### Selecting columns based on dtype\n",
    "select_dtypes method can be used to select columns based on dtype."
   ]
  },
  {
   "cell_type": "code",
   "execution_count": 21,
   "id": "b2f1a731",
   "metadata": {},
   "outputs": [
    {
     "data": {
      "text/html": [
       "<div>\n",
       "<style scoped>\n",
       "    .dataframe tbody tr th:only-of-type {\n",
       "        vertical-align: middle;\n",
       "    }\n",
       "\n",
       "    .dataframe tbody tr th {\n",
       "        vertical-align: top;\n",
       "    }\n",
       "\n",
       "    .dataframe thead th {\n",
       "        text-align: right;\n",
       "    }\n",
       "</style>\n",
       "<table border=\"1\" class=\"dataframe\">\n",
       "  <thead>\n",
       "    <tr style=\"text-align: right;\">\n",
       "      <th></th>\n",
       "      <th>A</th>\n",
       "      <th>B</th>\n",
       "      <th>C</th>\n",
       "      <th>D</th>\n",
       "    </tr>\n",
       "  </thead>\n",
       "  <tbody>\n",
       "    <tr>\n",
       "      <th>0</th>\n",
       "      <td>1</td>\n",
       "      <td>1.0</td>\n",
       "      <td>a</td>\n",
       "      <td>True</td>\n",
       "    </tr>\n",
       "    <tr>\n",
       "      <th>1</th>\n",
       "      <td>2</td>\n",
       "      <td>2.0</td>\n",
       "      <td>b</td>\n",
       "      <td>False</td>\n",
       "    </tr>\n",
       "    <tr>\n",
       "      <th>2</th>\n",
       "      <td>3</td>\n",
       "      <td>3.0</td>\n",
       "      <td>c</td>\n",
       "      <td>True</td>\n",
       "    </tr>\n",
       "  </tbody>\n",
       "</table>\n",
       "</div>"
      ],
      "text/plain": [
       "   A    B  C      D\n",
       "0  1  1.0  a   True\n",
       "1  2  2.0  b  False\n",
       "2  3  3.0  c   True"
      ]
     },
     "execution_count": 21,
     "metadata": {},
     "output_type": "execute_result"
    }
   ],
   "source": [
    "df = pd.DataFrame({'A': [1, 2, 3], 'B': [1.0, 2.0, 3.0], 'C': ['a', 'b', 'c'],\n",
    " 'D': [True, False, True]})\n",
    "df"
   ]
  },
  {
   "cell_type": "markdown",
   "id": "7f7b0ff5",
   "metadata": {},
   "source": [
    "##### With include and exclude parameters you can specify which types you want:"
   ]
  },
  {
   "cell_type": "code",
   "execution_count": 22,
   "id": "33f575b1",
   "metadata": {},
   "outputs": [
    {
     "data": {
      "text/html": [
       "<div>\n",
       "<style scoped>\n",
       "    .dataframe tbody tr th:only-of-type {\n",
       "        vertical-align: middle;\n",
       "    }\n",
       "\n",
       "    .dataframe tbody tr th {\n",
       "        vertical-align: top;\n",
       "    }\n",
       "\n",
       "    .dataframe thead th {\n",
       "        text-align: right;\n",
       "    }\n",
       "</style>\n",
       "<table border=\"1\" class=\"dataframe\">\n",
       "  <thead>\n",
       "    <tr style=\"text-align: right;\">\n",
       "      <th></th>\n",
       "      <th>A</th>\n",
       "      <th>B</th>\n",
       "    </tr>\n",
       "  </thead>\n",
       "  <tbody>\n",
       "    <tr>\n",
       "      <th>0</th>\n",
       "      <td>1</td>\n",
       "      <td>1.0</td>\n",
       "    </tr>\n",
       "    <tr>\n",
       "      <th>1</th>\n",
       "      <td>2</td>\n",
       "      <td>2.0</td>\n",
       "    </tr>\n",
       "    <tr>\n",
       "      <th>2</th>\n",
       "      <td>3</td>\n",
       "      <td>3.0</td>\n",
       "    </tr>\n",
       "  </tbody>\n",
       "</table>\n",
       "</div>"
      ],
      "text/plain": [
       "   A    B\n",
       "0  1  1.0\n",
       "1  2  2.0\n",
       "2  3  3.0"
      ]
     },
     "execution_count": 22,
     "metadata": {},
     "output_type": "execute_result"
    }
   ],
   "source": [
    " df.select_dtypes(include=['number']) # You need to use a list"
   ]
  },
  {
   "cell_type": "code",
   "execution_count": 23,
   "id": "3b5bac92",
   "metadata": {},
   "outputs": [
    {
     "data": {
      "text/html": [
       "<div>\n",
       "<style scoped>\n",
       "    .dataframe tbody tr th:only-of-type {\n",
       "        vertical-align: middle;\n",
       "    }\n",
       "\n",
       "    .dataframe tbody tr th {\n",
       "        vertical-align: top;\n",
       "    }\n",
       "\n",
       "    .dataframe thead th {\n",
       "        text-align: right;\n",
       "    }\n",
       "</style>\n",
       "<table border=\"1\" class=\"dataframe\">\n",
       "  <thead>\n",
       "    <tr style=\"text-align: right;\">\n",
       "      <th></th>\n",
       "      <th>A</th>\n",
       "      <th>B</th>\n",
       "      <th>D</th>\n",
       "    </tr>\n",
       "  </thead>\n",
       "  <tbody>\n",
       "    <tr>\n",
       "      <th>0</th>\n",
       "      <td>1</td>\n",
       "      <td>1.0</td>\n",
       "      <td>True</td>\n",
       "    </tr>\n",
       "    <tr>\n",
       "      <th>1</th>\n",
       "      <td>2</td>\n",
       "      <td>2.0</td>\n",
       "      <td>False</td>\n",
       "    </tr>\n",
       "    <tr>\n",
       "      <th>2</th>\n",
       "      <td>3</td>\n",
       "      <td>3.0</td>\n",
       "      <td>True</td>\n",
       "    </tr>\n",
       "  </tbody>\n",
       "</table>\n",
       "</div>"
      ],
      "text/plain": [
       "   A    B      D\n",
       "0  1  1.0   True\n",
       "1  2  2.0  False\n",
       "2  3  3.0   True"
      ]
     },
     "execution_count": 23,
     "metadata": {},
     "output_type": "execute_result"
    }
   ],
   "source": [
    "# Select numbers and booleans\n",
    "df.select_dtypes(include=['number', 'bool'])"
   ]
  },
  {
   "cell_type": "code",
   "execution_count": 24,
   "id": "c2c0e6cc",
   "metadata": {},
   "outputs": [
    {
     "data": {
      "text/html": [
       "<div>\n",
       "<style scoped>\n",
       "    .dataframe tbody tr th:only-of-type {\n",
       "        vertical-align: middle;\n",
       "    }\n",
       "\n",
       "    .dataframe tbody tr th {\n",
       "        vertical-align: top;\n",
       "    }\n",
       "\n",
       "    .dataframe thead th {\n",
       "        text-align: right;\n",
       "    }\n",
       "</style>\n",
       "<table border=\"1\" class=\"dataframe\">\n",
       "  <thead>\n",
       "    <tr style=\"text-align: right;\">\n",
       "      <th></th>\n",
       "      <th>B</th>\n",
       "      <th>D</th>\n",
       "    </tr>\n",
       "  </thead>\n",
       "  <tbody>\n",
       "    <tr>\n",
       "      <th>0</th>\n",
       "      <td>1.0</td>\n",
       "      <td>True</td>\n",
       "    </tr>\n",
       "    <tr>\n",
       "      <th>1</th>\n",
       "      <td>2.0</td>\n",
       "      <td>False</td>\n",
       "    </tr>\n",
       "    <tr>\n",
       "      <th>2</th>\n",
       "      <td>3.0</td>\n",
       "      <td>True</td>\n",
       "    </tr>\n",
       "  </tbody>\n",
       "</table>\n",
       "</div>"
      ],
      "text/plain": [
       "     B      D\n",
       "0  1.0   True\n",
       "1  2.0  False\n",
       "2  3.0   True"
      ]
     },
     "execution_count": 24,
     "metadata": {},
     "output_type": "execute_result"
    }
   ],
   "source": [
    "# Select numbers and booleans but exclude int64\n",
    "df.select_dtypes(include=['number', 'bool'], exclude=['int64'])"
   ]
  }
 ],
 "metadata": {
  "kernelspec": {
   "display_name": "Python 3 (ipykernel)",
   "language": "python",
   "name": "python3"
  },
  "language_info": {
   "codemirror_mode": {
    "name": "ipython",
    "version": 3
   },
   "file_extension": ".py",
   "mimetype": "text/x-python",
   "name": "python",
   "nbconvert_exporter": "python",
   "pygments_lexer": "ipython3",
   "version": "3.9.6"
  }
 },
 "nbformat": 4,
 "nbformat_minor": 5
}
