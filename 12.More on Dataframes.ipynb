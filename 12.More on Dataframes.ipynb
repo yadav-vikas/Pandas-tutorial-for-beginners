{
 "cells": [
  {
   "cell_type": "markdown",
   "id": "e6c1ec82",
   "metadata": {},
   "source": [
    "### Get DataFrame information and memory usage\n"
   ]
  },
  {
   "cell_type": "markdown",
   "id": "9d776f14",
   "metadata": {},
   "source": [
    "#### To get basic information about a DataFrame including the column names and datatypes:\n"
   ]
  },
  {
   "cell_type": "code",
   "execution_count": 1,
   "id": "ac583da9",
   "metadata": {},
   "outputs": [
    {
     "data": {
      "text/html": [
       "<div>\n",
       "<style scoped>\n",
       "    .dataframe tbody tr th:only-of-type {\n",
       "        vertical-align: middle;\n",
       "    }\n",
       "\n",
       "    .dataframe tbody tr th {\n",
       "        vertical-align: top;\n",
       "    }\n",
       "\n",
       "    .dataframe thead th {\n",
       "        text-align: right;\n",
       "    }\n",
       "</style>\n",
       "<table border=\"1\" class=\"dataframe\">\n",
       "  <thead>\n",
       "    <tr style=\"text-align: right;\">\n",
       "      <th></th>\n",
       "      <th>integers</th>\n",
       "      <th>floats</th>\n",
       "      <th>text</th>\n",
       "      <th>ints with None</th>\n",
       "    </tr>\n",
       "  </thead>\n",
       "  <tbody>\n",
       "    <tr>\n",
       "      <th>0</th>\n",
       "      <td>1</td>\n",
       "      <td>1.5</td>\n",
       "      <td>a</td>\n",
       "      <td>1.0</td>\n",
       "    </tr>\n",
       "    <tr>\n",
       "      <th>1</th>\n",
       "      <td>2</td>\n",
       "      <td>2.5</td>\n",
       "      <td>b</td>\n",
       "      <td>NaN</td>\n",
       "    </tr>\n",
       "    <tr>\n",
       "      <th>2</th>\n",
       "      <td>3</td>\n",
       "      <td>3.0</td>\n",
       "      <td>c</td>\n",
       "      <td>3.0</td>\n",
       "    </tr>\n",
       "  </tbody>\n",
       "</table>\n",
       "</div>"
      ],
      "text/plain": [
       "   integers  floats text  ints with None\n",
       "0         1     1.5    a             1.0\n",
       "1         2     2.5    b             NaN\n",
       "2         3     3.0    c             3.0"
      ]
     },
     "execution_count": 1,
     "metadata": {},
     "output_type": "execute_result"
    }
   ],
   "source": [
    "import pandas as pd\n",
    "df = pd.DataFrame({'integers': [1, 2, 3],\n",
    " 'floats': [1.5, 2.5, 3],\n",
    " 'text': ['a', 'b', 'c'],\n",
    " 'ints with None': [1, None, 3]})\n",
    "\n",
    "df"
   ]
  },
  {
   "cell_type": "code",
   "execution_count": 2,
   "id": "37864bac",
   "metadata": {},
   "outputs": [
    {
     "name": "stdout",
     "output_type": "stream",
     "text": [
      "<class 'pandas.core.frame.DataFrame'>\n",
      "RangeIndex: 3 entries, 0 to 2\n",
      "Data columns (total 4 columns):\n",
      " #   Column          Non-Null Count  Dtype  \n",
      "---  ------          --------------  -----  \n",
      " 0   integers        3 non-null      int64  \n",
      " 1   floats          3 non-null      float64\n",
      " 2   text            3 non-null      object \n",
      " 3   ints with None  2 non-null      float64\n",
      "dtypes: float64(2), int64(1), object(1)\n",
      "memory usage: 224.0+ bytes\n"
     ]
    }
   ],
   "source": [
    "df.info()"
   ]
  },
  {
   "cell_type": "code",
   "execution_count": 3,
   "id": "bbb5c743",
   "metadata": {},
   "outputs": [
    {
     "name": "stdout",
     "output_type": "stream",
     "text": [
      "<class 'pandas.core.frame.DataFrame'>\n",
      "RangeIndex: 3 entries, 0 to 2\n",
      "Data columns (total 4 columns):\n",
      " #   Column          Non-Null Count  Dtype  \n",
      "---  ------          --------------  -----  \n",
      " 0   integers        3 non-null      int64  \n",
      " 1   floats          3 non-null      float64\n",
      " 2   text            3 non-null      object \n",
      " 3   ints with None  2 non-null      float64\n",
      "dtypes: float64(2), int64(1), object(1)\n",
      "memory usage: 374.0 bytes\n"
     ]
    }
   ],
   "source": [
    "# for memeory_usage \n",
    "\n",
    "df.info(memory_usage='deep')"
   ]
  },
  {
   "cell_type": "markdown",
   "id": "1c111a1c",
   "metadata": {},
   "source": [
    "### List all columns in dataframe"
   ]
  },
  {
   "cell_type": "code",
   "execution_count": 4,
   "id": "6a8c53cf",
   "metadata": {},
   "outputs": [
    {
     "data": {
      "text/plain": [
       "['integers', 'floats', 'text', 'ints with None']"
      ]
     },
     "execution_count": 4,
     "metadata": {},
     "output_type": "execute_result"
    }
   ],
   "source": [
    "list(df)"
   ]
  },
  {
   "cell_type": "code",
   "execution_count": 5,
   "id": "b563c439",
   "metadata": {},
   "outputs": [
    {
     "data": {
      "text/plain": [
       "Index(['integers', 'floats', 'text', 'ints with None'], dtype='object')"
      ]
     },
     "execution_count": 5,
     "metadata": {},
     "output_type": "execute_result"
    }
   ],
   "source": [
    "df.columns"
   ]
  },
  {
   "cell_type": "markdown",
   "id": "3640087c",
   "metadata": {},
   "source": [
    "### Stats summary of dataframe"
   ]
  },
  {
   "cell_type": "raw",
   "id": "9c1d5973",
   "metadata": {},
   "source": [
    "To generate various summary statistics. For numeric values the number of non-NA/null values (\n",
    "count), the mean (mean), the standard deviation std and values known as the five-number summary :\n",
    "\n",
    "• min: minimum (smallest observation)\n",
    "• 25%: lower quartile or first quartile (Q1)\n",
    "• 50%: median (middle value, Q2)\n",
    "• 75%: upper quartile or third quartile (Q3)\n",
    "• max: maximum (largest observation)"
   ]
  },
  {
   "cell_type": "code",
   "execution_count": 6,
   "id": "67969fa5",
   "metadata": {},
   "outputs": [
    {
     "data": {
      "text/html": [
       "<div>\n",
       "<style scoped>\n",
       "    .dataframe tbody tr th:only-of-type {\n",
       "        vertical-align: middle;\n",
       "    }\n",
       "\n",
       "    .dataframe tbody tr th {\n",
       "        vertical-align: top;\n",
       "    }\n",
       "\n",
       "    .dataframe thead th {\n",
       "        text-align: right;\n",
       "    }\n",
       "</style>\n",
       "<table border=\"1\" class=\"dataframe\">\n",
       "  <thead>\n",
       "    <tr style=\"text-align: right;\">\n",
       "      <th></th>\n",
       "      <th>integers</th>\n",
       "      <th>floats</th>\n",
       "      <th>ints with None</th>\n",
       "    </tr>\n",
       "  </thead>\n",
       "  <tbody>\n",
       "    <tr>\n",
       "      <th>count</th>\n",
       "      <td>3.0</td>\n",
       "      <td>3.000000</td>\n",
       "      <td>2.000000</td>\n",
       "    </tr>\n",
       "    <tr>\n",
       "      <th>mean</th>\n",
       "      <td>2.0</td>\n",
       "      <td>2.333333</td>\n",
       "      <td>2.000000</td>\n",
       "    </tr>\n",
       "    <tr>\n",
       "      <th>std</th>\n",
       "      <td>1.0</td>\n",
       "      <td>0.763763</td>\n",
       "      <td>1.414214</td>\n",
       "    </tr>\n",
       "    <tr>\n",
       "      <th>min</th>\n",
       "      <td>1.0</td>\n",
       "      <td>1.500000</td>\n",
       "      <td>1.000000</td>\n",
       "    </tr>\n",
       "    <tr>\n",
       "      <th>25%</th>\n",
       "      <td>1.5</td>\n",
       "      <td>2.000000</td>\n",
       "      <td>1.500000</td>\n",
       "    </tr>\n",
       "    <tr>\n",
       "      <th>50%</th>\n",
       "      <td>2.0</td>\n",
       "      <td>2.500000</td>\n",
       "      <td>2.000000</td>\n",
       "    </tr>\n",
       "    <tr>\n",
       "      <th>75%</th>\n",
       "      <td>2.5</td>\n",
       "      <td>2.750000</td>\n",
       "      <td>2.500000</td>\n",
       "    </tr>\n",
       "    <tr>\n",
       "      <th>max</th>\n",
       "      <td>3.0</td>\n",
       "      <td>3.000000</td>\n",
       "      <td>3.000000</td>\n",
       "    </tr>\n",
       "  </tbody>\n",
       "</table>\n",
       "</div>"
      ],
      "text/plain": [
       "       integers    floats  ints with None\n",
       "count       3.0  3.000000        2.000000\n",
       "mean        2.0  2.333333        2.000000\n",
       "std         1.0  0.763763        1.414214\n",
       "min         1.0  1.500000        1.000000\n",
       "25%         1.5  2.000000        1.500000\n",
       "50%         2.0  2.500000        2.000000\n",
       "75%         2.5  2.750000        2.500000\n",
       "max         3.0  3.000000        3.000000"
      ]
     },
     "execution_count": 6,
     "metadata": {},
     "output_type": "execute_result"
    }
   ],
   "source": [
    "df.describe()"
   ]
  },
  {
   "cell_type": "code",
   "execution_count": null,
   "id": "f351cf9f",
   "metadata": {},
   "outputs": [],
   "source": []
  }
 ],
 "metadata": {
  "kernelspec": {
   "display_name": "Python 3 (ipykernel)",
   "language": "python",
   "name": "python3"
  },
  "language_info": {
   "codemirror_mode": {
    "name": "ipython",
    "version": 3
   },
   "file_extension": ".py",
   "mimetype": "text/x-python",
   "name": "python",
   "nbconvert_exporter": "python",
   "pygments_lexer": "ipython3",
   "version": "3.9.6"
  }
 },
 "nbformat": 4,
 "nbformat_minor": 5
}
